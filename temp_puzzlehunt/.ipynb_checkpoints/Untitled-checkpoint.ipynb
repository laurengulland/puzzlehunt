{
 "cells": [
  {
   "cell_type": "code",
   "execution_count": 1,
   "metadata": {
    "collapsed": true
   },
   "outputs": [],
   "source": [
    "import pandas as pd\n",
    "from itertools import permutations, product\n",
    "\n",
    "csv_name = \"Voter Fraud - Sheet2.csv\"\n",
    "\n",
    "df = pd.read_csv(csv_name, header=None)"
   ]
  },
  {
   "cell_type": "code",
   "execution_count": 4,
   "metadata": {},
   "outputs": [
    {
     "data": {
      "text/html": [
       "<div>\n",
       "<style>\n",
       "    .dataframe thead tr:only-child th {\n",
       "        text-align: right;\n",
       "    }\n",
       "\n",
       "    .dataframe thead th {\n",
       "        text-align: left;\n",
       "    }\n",
       "\n",
       "    .dataframe tbody tr th {\n",
       "        vertical-align: top;\n",
       "    }\n",
       "</style>\n",
       "<table border=\"1\" class=\"dataframe\">\n",
       "  <thead>\n",
       "    <tr style=\"text-align: right;\">\n",
       "      <th></th>\n",
       "      <th>0</th>\n",
       "      <th>1</th>\n",
       "      <th>2</th>\n",
       "      <th>3</th>\n",
       "      <th>4</th>\n",
       "      <th>5</th>\n",
       "      <th>6</th>\n",
       "      <th>7</th>\n",
       "      <th>8</th>\n",
       "      <th>9</th>\n",
       "      <th>10</th>\n",
       "      <th>11</th>\n",
       "    </tr>\n",
       "  </thead>\n",
       "  <tbody>\n",
       "    <tr>\n",
       "      <th>0</th>\n",
       "      <td>NaN</td>\n",
       "      <td>Rutherford</td>\n",
       "      <td>NaN</td>\n",
       "      <td>NaN</td>\n",
       "      <td>George</td>\n",
       "      <td>Rutherford</td>\n",
       "      <td>Donald</td>\n",
       "      <td>NaN</td>\n",
       "      <td>NaN</td>\n",
       "      <td>NaN</td>\n",
       "      <td>Rutherford</td>\n",
       "      <td>NaN</td>\n",
       "    </tr>\n",
       "    <tr>\n",
       "      <th>1</th>\n",
       "      <td>NaN</td>\n",
       "      <td>NaN</td>\n",
       "      <td>Donald</td>\n",
       "      <td>NaN</td>\n",
       "      <td>NaN</td>\n",
       "      <td>Benjamin</td>\n",
       "      <td>NaN</td>\n",
       "      <td>George</td>\n",
       "      <td>NaN</td>\n",
       "      <td>Donald</td>\n",
       "      <td>Donald</td>\n",
       "      <td>John</td>\n",
       "    </tr>\n",
       "    <tr>\n",
       "      <th>2</th>\n",
       "      <td>Rutherford</td>\n",
       "      <td>Benjamin</td>\n",
       "      <td>NaN</td>\n",
       "      <td>George</td>\n",
       "      <td>Rutherford</td>\n",
       "      <td>Donald</td>\n",
       "      <td>John</td>\n",
       "      <td>Benjamin</td>\n",
       "      <td>Benjamin</td>\n",
       "      <td>NaN</td>\n",
       "      <td>John</td>\n",
       "      <td>Benjamin</td>\n",
       "    </tr>\n",
       "    <tr>\n",
       "      <th>3</th>\n",
       "      <td>Benjamin</td>\n",
       "      <td>NaN</td>\n",
       "      <td>John</td>\n",
       "      <td>Benjamin</td>\n",
       "      <td>NaN</td>\n",
       "      <td>John</td>\n",
       "      <td>Rutherford</td>\n",
       "      <td>Donald</td>\n",
       "      <td>John</td>\n",
       "      <td>Rutherford</td>\n",
       "      <td>George</td>\n",
       "      <td>NaN</td>\n",
       "    </tr>\n",
       "    <tr>\n",
       "      <th>4</th>\n",
       "      <td>John</td>\n",
       "      <td>John</td>\n",
       "      <td>Benjamin</td>\n",
       "      <td>NaN</td>\n",
       "      <td>Benjamin</td>\n",
       "      <td>George</td>\n",
       "      <td>NaN</td>\n",
       "      <td>NaN</td>\n",
       "      <td>NaN</td>\n",
       "      <td>Benjamin</td>\n",
       "      <td>Benjamin</td>\n",
       "      <td>Donald</td>\n",
       "    </tr>\n",
       "  </tbody>\n",
       "</table>\n",
       "</div>"
      ],
      "text/plain": [
       "           0           1         2         3           4           5   \\\n",
       "0         NaN  Rutherford       NaN       NaN      George  Rutherford   \n",
       "1         NaN         NaN    Donald       NaN         NaN    Benjamin   \n",
       "2  Rutherford    Benjamin       NaN    George  Rutherford      Donald   \n",
       "3    Benjamin         NaN      John  Benjamin         NaN        John   \n",
       "4        John        John  Benjamin       NaN    Benjamin      George   \n",
       "\n",
       "           6         7         8           9           10        11  \n",
       "0      Donald       NaN       NaN         NaN  Rutherford       NaN  \n",
       "1         NaN    George       NaN      Donald      Donald      John  \n",
       "2        John  Benjamin  Benjamin         NaN        John  Benjamin  \n",
       "3  Rutherford    Donald      John  Rutherford      George       NaN  \n",
       "4         NaN       NaN       NaN    Benjamin    Benjamin    Donald  "
      ]
     },
     "execution_count": 4,
     "metadata": {},
     "output_type": "execute_result"
    }
   ],
   "source": [
    "df"
   ]
  },
  {
   "cell_type": "code",
   "execution_count": 5,
   "metadata": {
    "scrolled": true
   },
   "outputs": [],
   "source": [
    "def missing(row):\n",
    "    all_names = {\"Rutherford\",\"Benjamin\",\"George\",\"Donald\",\"John\"}\n",
    "    return all_names.difference(set(row))"
   ]
  },
  {
   "cell_type": "code",
   "execution_count": 6,
   "metadata": {},
   "outputs": [],
   "source": [
    "all_perms = []\n",
    "for row in df:\n",
    "    all_perms.append(list(permutations(missing(df[row]))))"
   ]
  },
  {
   "cell_type": "code",
   "execution_count": 8,
   "metadata": {},
   "outputs": [
    {
     "data": {
      "text/plain": [
       "([[('George', 'Donald'), ('Donald', 'George')],\n",
       "  [('George', 'Donald'), ('Donald', 'George')],\n",
       "  [('Rutherford', 'George'), ('George', 'Rutherford')],\n",
       "  [('John', 'Rutherford', 'Donald'),\n",
       "   ('John', 'Donald', 'Rutherford'),\n",
       "   ('Rutherford', 'John', 'Donald'),\n",
       "   ('Rutherford', 'Donald', 'John'),\n",
       "   ('Donald', 'John', 'Rutherford'),\n",
       "   ('Donald', 'Rutherford', 'John')],\n",
       "  [('John', 'Donald'), ('Donald', 'John')],\n",
       "  [()],\n",
       "  [('Benjamin', 'George'), ('George', 'Benjamin')],\n",
       "  [('John', 'Rutherford'), ('Rutherford', 'John')],\n",
       "  [('Rutherford', 'George', 'Donald'),\n",
       "   ('Rutherford', 'Donald', 'George'),\n",
       "   ('George', 'Rutherford', 'Donald'),\n",
       "   ('George', 'Donald', 'Rutherford'),\n",
       "   ('Donald', 'Rutherford', 'George'),\n",
       "   ('Donald', 'George', 'Rutherford')],\n",
       "  [('John', 'George'), ('George', 'John')],\n",
       "  [()],\n",
       "  [('Rutherford', 'George'), ('George', 'Rutherford')]],\n",
       " 12)"
      ]
     },
     "execution_count": 8,
     "metadata": {},
     "output_type": "execute_result"
    }
   ],
   "source": [
    "all_perms, len(all_perms)"
   ]
  },
  {
   "cell_type": "code",
   "execution_count": 9,
   "metadata": {},
   "outputs": [],
   "source": [
    "combos = list(product(*all_perms))"
   ]
  },
  {
   "cell_type": "code",
   "execution_count": 14,
   "metadata": {
    "scrolled": true
   },
   "outputs": [],
   "source": [
    "all_dfs = []\n",
    "for combo in combos:\n",
    "    new_df = df.copy()\n",
    "    for row, names in zip(new_df, combo):\n",
    "        name_iterator = iter(names)\n",
    "        for i, name in enumerate(new_df[row]):\n",
    "            if pd.isnull(name):\n",
    "                new_df.loc[i, row] = next(name_iterator)\n",
    "    all_dfs.append(new_df)"
   ]
  },
  {
   "cell_type": "code",
   "execution_count": 17,
   "metadata": {},
   "outputs": [],
   "source": [
    "assert(len(all_dfs) == len(combos))"
   ]
  },
  {
   "cell_type": "code",
   "execution_count": null,
   "metadata": {
    "collapsed": true
   },
   "outputs": [],
   "source": [
    "    if scores_list[0][0] == \"Donald\" and scores_list[1][0] == \"Rutherford\" and scores_list[2][0] == \"George\"\n"
   ]
  },
  {
   "cell_type": "code",
   "execution_count": 35,
   "metadata": {},
   "outputs": [],
   "source": [
    "for idx, df in enumerate(all_dfs):\n",
    "    scores = {\"Rutherford\":0,\"Benjamin\":0,\"George\":0,\"Donald\":0,\"John\":0}\n",
    "    for row in df:\n",
    "        for i, name in enumerate(df[row]):\n",
    "            scores[name] += (5-i)\n",
    "    scores_list = sorted([(x, scores[x]) for x in scores.keys()], key=lambda x: x[1], reverse=True)\n",
    "    break"
   ]
  },
  {
   "cell_type": "code",
   "execution_count": 38,
   "metadata": {},
   "outputs": [
    {
     "data": {
      "text/plain": [
       "[('Rutherford', 45),\n",
       " ('George', 37),\n",
       " ('John', 37),\n",
       " ('Donald', 33),\n",
       " ('Benjamin', 28)]"
      ]
     },
     "execution_count": 38,
     "metadata": {},
     "output_type": "execute_result"
    }
   ],
   "source": [
    "scores_list"
   ]
  },
  {
   "cell_type": "code",
   "execution_count": null,
   "metadata": {
    "collapsed": true
   },
   "outputs": [],
   "source": []
  }
 ],
 "metadata": {
  "kernelspec": {
   "display_name": "Python [conda env:plotting]",
   "language": "python",
   "name": "conda-env-plotting-py"
  },
  "language_info": {
   "codemirror_mode": {
    "name": "ipython",
    "version": 3
   },
   "file_extension": ".py",
   "mimetype": "text/x-python",
   "name": "python",
   "nbconvert_exporter": "python",
   "pygments_lexer": "ipython3",
   "version": "3.6.2"
  }
 },
 "nbformat": 4,
 "nbformat_minor": 2
}
